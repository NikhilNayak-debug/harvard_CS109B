{
    "metadata": {
        "kernelspec": {
            "name": "python3",
            "display_name": "Python 3 (ipykernel)",
            "language": "python"
        }
    },
    "nbformat": 4,
    "nbformat_minor": 4,
    "cells": [
        {
            "cell_type": "code",
            "execution_count": 1,
            "metadata": {},
            "outputs": [],
            "source": [
                "import numpy as np\n",
                "import matplotlib.pyplot as plt\n",
                "import re\n",
                "import pickle"
            ]
        },
        {
            "attachments": {},
            "cell_type": "markdown",
            "metadata": {},
            "source": [
                "For your convenience, the data is already stored in the file _reviews.pkl_ which you can read using the code below. "
            ]
        },
        {
            "cell_type": "code",
            "execution_count": 2,
            "metadata": {},
            "outputs": [
                {
                    "data": {
                        "text/plain": "4000"
                    },
                    "execution_count": 2,
                    "metadata": {},
                    "output_type": "execute_result"
                }
            ],
            "source": [
                "with open('reviews.pkl', 'rb') as file:\n",
                "    train, _ = pickle.load(file)\n",
                "len(train)"
            ]
        },
        {
            "attachments": {},
            "cell_type": "markdown",
            "metadata": {},
            "source": [
                "Each review is stored in a list. You can explore the contents of each review."
            ]
        },
        {
            "cell_type": "code",
            "execution_count": 3,
            "metadata": {},
            "outputs": [
                {
                    "data": {
                        "text/plain": "\"I don't know why some guys from US, Georgia or even from Bulgaria have the courage to express feelings about something they don't understand at all. For those who did not watch this movie - watch it. Don't expect too much or don't put some frameworks just because this is Kosturica. Watch the movie without prejudice, try to understand the whole humor inside - people of Serbia DID actually getting married while Bil Clinton bomb their villages, gypsies in all Balkans are ALWAYS try to f*ck you up in any way they can, LOVE is always unexpected, pure and colorful, and Balkans are extremely creative. For those who claims this is a bad movie I can see only that the American's sh*t (like Meet Dave, Get Smart etc) are much much worse than a pure, frank Balkan humoristic love story movie as Promise me. The comment should be useful and on second place should represent the personal view of the writer. I think the movie is great and people watch it must give their respects to the director and story told inside. It is simple, but true. It is brutal, but gentle and makes you laugh to dead.\""
                    },
                    "execution_count": 3,
                    "metadata": {},
                    "output_type": "execute_result"
                }
            ],
            "source": [
                "train[16]"
            ]
        },
        {
            "attachments": {},
            "cell_type": "markdown",
            "metadata": {},
            "source": [
                "### ⏸ How many characters does the longest review have?\n",
                "\n",
                "#### A. 4000\n",
                "#### B. 10363\n",
                "#### C. 8754"
            ]
        },
        {
            "cell_type": "code",
            "execution_count": 7,
            "metadata": {},
            "outputs": [],
            "source": [
                "### edTest(test_chow1) ###\n",
                "# Submit an answer choice as a string below (eg. if you choose option A, put 'A')\n",
                "answer1 = 'B'"
            ]
        },
        {
            "attachments": {},
            "cell_type": "markdown",
            "metadata": {},
            "source": [
                "The dataset is organized such as the first 2000 reviews are positive, and the rest negative."
            ]
        },
        {
            "cell_type": "code",
            "execution_count": 8,
            "metadata": {},
            "outputs": [],
            "source": [
                "train_pos = train[:2000]\n",
                "train_neg = train[2000:]"
            ]
        },
        {
            "attachments": {},
            "cell_type": "markdown",
            "metadata": {},
            "source": [
                "Each review is in natural language, which means that it contains punctuation signs and uppercase letters. Because of the nature of the data, each review has HTML characters. \n",
                "\n",
                "In order to analyze the information, you have to remove all the special characters and replace upper case words with lower case. Use the following function to do so."
            ]
        },
        {
            "cell_type": "code",
            "execution_count": 9,
            "metadata": {},
            "outputs": [],
            "source": [
                "def transform(review):\n",
                "    # Lower case\n",
                "    review = review.lower()\n",
                "    \n",
                "    # Remove HTML\n",
                "    review = re.sub('\u003cbr /\u003e\u003cbr /\u003e', ' ', review)\n",
                "    \n",
                "    # Replace all none alphanumeric characters with spaces\n",
                "    review = re.sub(r'[^a-zA-Z0\\s]', '', review)\n",
                "    \n",
                "    return review"
            ]
        },
        {
            "cell_type": "code",
            "execution_count": 11,
            "metadata": {},
            "outputs": [],
            "source": [
                "# Use the function above to transform your data\n",
                "train_pos = [transform(x) for x in train_pos]\n",
                "train_neg = [transform(x) for x in train_neg]\n",
                ""
            ]
        },
        {
            "attachments": {},
            "cell_type": "markdown",
            "metadata": {},
            "source": [
                "In this exercise, you will look for keywords that you think represent a good movie and keywords that represent bad movies. \n",
                "\n",
                "We expect that a _positive_ review will have more possitive than negative words. \n",
                "\n",
                "To test the hypotesis, count the number of positive and negative words in each review of the training set, for each category. \n",
                ""
            ]
        },
        {
            "cell_type": "code",
            "execution_count": 15,
            "metadata": {},
            "outputs": [],
            "source": [
                "# Your code here\n",
                "pos_key = ['good', 'great', 'amazing']\n",
                "neg_key = ['bad', 'horrible', 'worst']"
            ]
        },
        {
            "cell_type": "code",
            "execution_count": 16,
            "metadata": {},
            "outputs": [],
            "source": [
                "# This counts the words for the positive reviews\n",
                "\n",
                "# Create numpy array to store the scores\n",
                "scores_pos = np.zeros((len(train_pos), 2))\n",
                "\n",
                "# For each word in pos_key\n",
                "for j in range(len(pos_key)):\n",
                "    # For each review\n",
                "    for i in range(scores_pos.shape[0]):\n",
                "        # Add the number of times the word is found\n",
                "        scores_pos[i,0]+=train_pos[i].count(pos_key[j])\n",
                "\n",
                "# For each word in neg_key\n",
                "for j in range(len(neg_key)):\n",
                "    # For each review\n",
                "    for i in range(scores_pos.shape[0]):\n",
                "        # Add the number of times the word is found\n",
                "        scores_pos[i,1]+=train_pos[i].count(neg_key[j])        \n",
                "        "
            ]
        },
        {
            "attachments": {},
            "cell_type": "markdown",
            "metadata": {},
            "source": [
                "Compute the scores for the negative reviews."
            ]
        },
        {
            "cell_type": "code",
            "execution_count": 24,
            "metadata": {},
            "outputs": [
                {
                    "name": "stdout",
                    "output_type": "stream",
                    "text": "0.6705\n"
                }
            ],
            "source": [
                "# Your code here\n",
                "count = 0\n",
                "for sent in train_pos:\n",
                "    count += sent.count('good')\n",
                "print(count/len(train_pos))"
            ]
        },
        {
            "attachments": {},
            "cell_type": "markdown",
            "metadata": {},
            "source": [
                "### ⏸ What is the average number of appearances of the word **good** in the positive reviews?\n",
                "\n",
                "#### A. 0.30\n",
                "#### B. 0.45\n",
                "#### C. 0.67"
            ]
        },
        {
            "cell_type": "code",
            "execution_count": 25,
            "metadata": {},
            "outputs": [],
            "source": [
                "### edTest(test_chow2) ###\n",
                "# Submit an answer choice as a string below (eg. if you choose option A, put 'A')\n",
                "answer2 = 'C'"
            ]
        },
        {
            "attachments": {},
            "cell_type": "markdown",
            "metadata": {},
            "source": [
                "In order to compare the success of your strategy, you must define a criteria. \n",
                "\n",
                "The simplest one to check if a review is good is to look if the number of positive words occurs more than negative words. For a negative review, the number of negative words should be higher than the positive ones.\n",
                "\n",
                "How many good reviews are classified correctly according to this score? How many negative ones are classified correctly?\n",
                "\n",
                "Remember that you are working with 2000 examples of each category."
            ]
        },
        {
            "cell_type": "code",
            "execution_count": 26,
            "metadata": {},
            "outputs": [],
            "source": [
                "# Your code here\n",
                "\n",
                "# Create numpy array to store the scores\n",
                "scores_neg = np.zeros((len(train_neg), 2))\n",
                "\n",
                "# For each word in pos_key\n",
                "for j in range(len(pos_key)):\n",
                "    # For each review\n",
                "    for i in range(scores_neg.shape[0]):\n",
                "        # Add the number of times the word is found\n",
                "        scores_neg[i,1]+=train_neg[i].count(pos_key[j])\n",
                "\n",
                "# For each word in neg_key\n",
                "for j in range(len(neg_key)):\n",
                "    # For each review\n",
                "    for i in range(scores_neg.shape[0]):\n",
                "        # Add the number of times the word is found\n",
                "        scores_neg[i,0]+=train_neg[i].count(neg_key[j])"
            ]
        },
        {
            "cell_type": "code",
            "execution_count": 27,
            "metadata": {},
            "outputs": [
                {
                    "name": "stdout",
                    "output_type": "stream",
                    "text": "0.593\n0.314\n"
                }
            ],
            "source": [
                "count = 0\n",
                "for i in range(scores_pos.shape[0]):\n",
                "    if scores_pos[i][0] \u003e scores_pos[i][1]:\n",
                "        count += 1\n",
                "print(count/scores_pos.shape[0])\n",
                "\n",
                "count = 0\n",
                "for i in range(scores_neg.shape[0]):\n",
                "    if scores_neg[i][0] \u003e scores_neg[i][1]:\n",
                "        count += 1\n",
                "print(count/scores_neg.shape[0])"
            ]
        },
        {
            "attachments": {},
            "cell_type": "markdown",
            "metadata": {},
            "source": [
                "Create histograms to analyze the score distribution for the possitive reviews.\n",
                "\n",
                "Do the results coincide with your expectations?"
            ]
        },
        {
            "cell_type": "code",
            "execution_count": 28,
            "metadata": {},
            "outputs": [
                {
                    "data": {
                        "image/png": "[encoded data removed]",
                        "text/plain": "\u003cFigure size 640x480 with 1 Axes\u003e"
                    },
                    "metadata": {},
                    "output_type": "display_data"
                }
            ],
            "source": [
                "# Assuming that the first column of scores_pos contains the positive score\n",
                "#and the second the negative score.\n",
                "plt.hist(scores_pos[:,1], bins=[0,1,2,3,4,5,6,7,8,9,10], alpha=0.5, label='Negative words')\n",
                "plt.hist(scores_pos[:,0], bins=[0,1,2,3,4,5,6,7,8,9,10], alpha=0.5, label='Positive words')\n",
                "plt.legend(loc=0)\n",
                "plt.title('Positive reviews')\n",
                "plt.xlabel('Word frequency')\n",
                "plt.ylabel('Number of reviews')\n",
                "plt.show()\n",
                ""
            ]
        },
        {
            "attachments": {},
            "cell_type": "markdown",
            "metadata": {},
            "source": [
                "Generate the same histograms for the negative reviews."
            ]
        },
        {
            "cell_type": "code",
            "execution_count": 29,
            "metadata": {},
            "outputs": [
                {
                    "data": {
                        "image/png": "[encoded data removed]",
                        "text/plain": "\u003cFigure size 640x480 with 1 Axes\u003e"
                    },
                    "metadata": {},
                    "output_type": "display_data"
                }
            ],
            "source": [
                "# Your code here\n",
                "plt.hist(scores_neg[:,1], bins=[0,1,2,3,4,5,6,7,8,9,10], alpha=0.5, label='Negative words')\n",
                "plt.hist(scores_neg[:,0], bins=[0,1,2,3,4,5,6,7,8,9,10], alpha=0.5, label='Positive words')\n",
                "plt.legend(loc=0)\n",
                "plt.title('Negative reviews')\n",
                "plt.xlabel('Word frequency')\n",
                "plt.ylabel('Number of reviews')\n",
                "plt.show()"
            ]
        },
        {
            "attachments": {},
            "cell_type": "markdown",
            "metadata": {},
            "source": [
                "In general, the presence of _bad_ words do not represent a bad movie. For example in the following review, we can see many _bad_ words that in the context are used to describe something positive."
            ]
        },
        {
            "cell_type": "code",
            "execution_count": 30,
            "metadata": {},
            "outputs": [
                {
                    "data": {
                        "text/plain": "\"Or at least one of the best. I think this is a very fun and very cool game for the N64. Bowser is up to his usual shenanigans (yeah it's a dumb word but the only one I can think of) and Mario must stop him again. This game is very fun to play, and contains lots of nostalgia to me. The only bad thing about it is the graphics, which are awful to today's standards, but everything else is pretty good (especially the little mini-games you can unlock) It's the second best N64 game (the first best is Conker's Bad Fur Day) that I recommend to any Mario fan, or any fan of platform games. It beats out mediocre Super Mario Sunshine any day.\u003cbr /\u003e\u003cbr /\u003e9/10 or: A\""
                    },
                    "execution_count": 30,
                    "metadata": {},
                    "output_type": "execute_result"
                }
            ],
            "source": [
                "train[17]"
            ]
        },
        {
            "attachments": {},
            "cell_type": "markdown",
            "metadata": {},
            "source": [
                "You can see that the words _bad_, _awful_ and _mediocre_ are in the review. But they are used to compare it to another title. \n",
                "\n",
                "Moreover, if you look closely, you will see that this is not a movie, but a game, which might have different keywords that describe its behavior.\n",
                "\n",
                "### ⏸ In your own words, how important is the context here?"
            ]
        },
        {
            "attachments": {},
            "cell_type": "markdown",
            "metadata": {},
            "source": [
                "Context is important because reviews about different topics can contain different key words that indicate positive or negative sentiment."
            ]
        },
        {
            "cell_type": "code",
            "execution_count": 0,
            "metadata": {},
            "outputs": [],
            "source": [
                ""
            ]
        }
    ]
}
