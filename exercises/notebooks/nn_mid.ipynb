{
  "metadata": {
    "kernelspec": {
      "name": "python3",
      "display_name": "Python 3 (ipykernel)",
      "language": "python"
    },
    "colab": {
      "provenance": []
    }
  },
  "nbformat": 4,
  "nbformat_minor": 0,
  "cells": [
    {
      "cell_type": "code",
      "execution_count": 1,
      "metadata": {
        "id": "TrB-741EYjhI"
      },
      "outputs": [],
      "source": [
        "# Import necessary libraries\n",
        "import numpy as np\n",
        "import tensorflow as tf\n",
        "import matplotlib.pyplot as plt\n",
        "from sklearn.datasets import load_iris\n",
        "from tensorflow.keras.utils import to_categorical\n",
        "%matplotlib inline\n"
      ]
    },
    {
      "cell_type": "code",
      "execution_count": 7,
      "metadata": {
        "colab": {
          "base_uri": "https://localhost:8080/"
        },
        "id": "UVIR-nEeYjhK",
        "outputId": "acd283f0-413f-489d-9dbc-7406583e3f9d"
      },
      "outputs": [
        {
          "output_type": "stream",
          "name": "stdout",
          "text": [
            "(150, 4)\n",
            "(150,)\n"
          ]
        }
      ],
      "source": [
        "### edTest(test_data) ###\n",
        "\n",
        "# Load the iris data from sklearn datasets\n",
        "iris_data = load_iris()\n",
        "\n",
        "# Set the predictors from the Iris dataset to X\n",
        "X = iris_data.data\n",
        "\n",
        "# Set the response from the Iris dataset to X\n",
        "y = iris_data.target\n",
        "\n",
        "# Print the shape of the predictor data\n",
        "print(X.shape)\n",
        "\n",
        "# Print the shape of the response data\n",
        "print(y.shape)\n"
      ]
    },
    {
      "cell_type": "code",
      "source": [
        "y[:5]"
      ],
      "metadata": {
        "colab": {
          "base_uri": "https://localhost:8080/"
        },
        "id": "k7i-t2YlaLiM",
        "outputId": "48f3d721-71a0-4ce6-b7ed-ba250206f3cd"
      },
      "execution_count": 15,
      "outputs": [
        {
          "output_type": "execute_result",
          "data": {
            "text/plain": [
              "array([0, 0, 0, 0, 0])"
            ]
          },
          "metadata": {},
          "execution_count": 15
        }
      ]
    },
    {
      "cell_type": "code",
      "execution_count": 11,
      "metadata": {
        "colab": {
          "base_uri": "https://localhost:8080/"
        },
        "id": "uXVF2whRYjhK",
        "outputId": "fcd064d5-2e09-4168-fec3-714690a8c68a"
      },
      "outputs": [
        {
          "output_type": "stream",
          "name": "stdout",
          "text": [
            "Y shape: (150, 3)\n"
          ]
        }
      ],
      "source": [
        "#from os import O_NOINHERIT\n",
        "### edTest(test_categorical) ###\n",
        "\n",
        "# Encode the response labels\n",
        "\n",
        "Y = to_categorical(y, num_classes=3)\n",
        "# Take a look at the shape of the one-hot encoded response\n",
        "print(f'Y shape: {Y.shape}')\n"
      ]
    },
    {
      "cell_type": "code",
      "source": [
        "Y[:5]"
      ],
      "metadata": {
        "colab": {
          "base_uri": "https://localhost:8080/"
        },
        "id": "fFpHJGRRaTRs",
        "outputId": "8a358c1e-f59c-49ea-f1bd-3d66427dd9ac"
      },
      "execution_count": 18,
      "outputs": [
        {
          "output_type": "execute_result",
          "data": {
            "text/plain": [
              "array([[1., 0., 0.],\n",
              "       [1., 0., 0.],\n",
              "       [1., 0., 0.],\n",
              "       [1., 0., 0.],\n",
              "       [1., 0., 0.]], dtype=float32)"
            ]
          },
          "metadata": {},
          "execution_count": 18
        }
      ]
    },
    {
      "cell_type": "code",
      "execution_count": 21,
      "metadata": {
        "id": "nFFPC8JbYjhK"
      },
      "outputs": [],
      "source": [
        "# Load and inspect the pre-trained weights and biases\n",
        "weights = np.load('weights.npy', allow_pickle=True)\n",
        "\n",
        "# Weights for hidden (1st) layer\n",
        "w1 = weights[0] \n",
        "\n",
        "# Biases for hidden (1st) layer\n",
        "b1 = weights[1]\n",
        "\n",
        "# Weights for output (2nd) layer\n",
        "w2 = weights[2]\n",
        "\n",
        "# Biases for output (2nd) layer\n",
        "b2 = weights[3] \n"
      ]
    },
    {
      "cell_type": "code",
      "execution_count": 22,
      "metadata": {
        "colab": {
          "base_uri": "https://localhost:8080/"
        },
        "id": "X3516BYkYjhL",
        "outputId": "706b6819-f56f-4f15-f31a-6769ee7aecdc"
      },
      "outputs": [
        {
          "output_type": "stream",
          "name": "stdout",
          "text": [
            "w1 - shape: (4, 3)\n",
            "b1 - shape: (3,)\n",
            "w2 - shape: (3, 3)\n",
            "b2 - shape: (3,)\n"
          ]
        }
      ],
      "source": [
        "# Compare their shapes to that in the NN diagram.\n",
        "for arr, name in zip([w1,b1,w2,b2], ['w1','b1','w2','b2']):\n",
        "    print(f'{name} - shape: {arr.shape}')\n"
      ]
    },
    {
      "cell_type": "markdown",
      "metadata": {
        "id": "qd2lgeWSYjhL"
      },
      "source": [
        "For the first affine transformation we need to multiply the augmented input by the first weight matrix (i.e., layer).\n",
        "\n",
        "$$\n",
        "\\begin{bmatrix}\n",
        "1 & X_{11} & X_{12} & X_{13} & X_{14}\\\\\n",
        "1 & X_{21} & X_{22} & X_{23} & X_{24}\\\\\n",
        "\\vdots & \\vdots & \\vdots & \\vdots & \\vdots \\\\\n",
        "1 & X_{n1} & X_{n2} & X_{n3} & X_{n4}\\\\\n",
        "\\end{bmatrix} \\begin{bmatrix}\n",
        "b_{1}^1 & b_{2}^1 & b_{3}^1\\\\\n",
        "W_{11}^1 & W_{12}^1 & W_{13}^1\\\\\n",
        "W_{21}^1 & W_{22}^1 & W_{23}^1\\\\\n",
        "W_{31}^1 & W_{32}^1 & W_{33}^1\\\\\n",
        "W_{41}^1 & W_{42}^1 & W_{43}^1\\\\\n",
        "\\end{bmatrix} =\n",
        "\\begin{bmatrix}\n",
        "z_{11}^1 & z_{12}^1 & z_{13}^1\\\\\n",
        "z_{21}^1 & z_{22}^1 & z_{23}^1\\\\\n",
        "\\vdots & \\vdots & \\vdots \\\\\n",
        "z_{n1}^1 & z_{n2}^1 & z_{n3}^1\\\\\n",
        "\\end{bmatrix}\n",
        "= \\textbf{Z}^1\n",
        "$$ \n",
        "<span style='color:gray'>About the notation: superscript refers to the layer and subscript refers to the index in the particular matrix. So $W_{23}^1$ is the weight in the 1st layer connecting the 2nd input to 3rd hidden node. Compare this matrix representation to the slide image. Also note the bias terms and ones that have been added to 'augment' certain matrices. You could consider $b_1^1$ to be $W_{01}^1$.</span><div></div>\n",
        "<span style='color:blue'>1. Augment X with a column of ones to create `X_aug`</span><div></div><span style='color:blue'>2. Create the first layer weight matrix `W1` by vertically stacking the bias vector `b1`on top of `w1` (consult `add_ones_col` for ideas. Don't forget your `Tab` and `Shift+Tab` tricks!)</span><div></div><span style='color:blue'>3. Do the matrix multiplication to find `Z1`</span>\n",
        "\n"
      ]
    },
    {
      "cell_type": "code",
      "execution_count": 23,
      "metadata": {
        "id": "hXLq56s_YjhM"
      },
      "outputs": [],
      "source": [
        "def add_ones_col(X):\n",
        "\n",
        "    '''Augment matrix with a column of ones'''\n",
        "    X_aug = np.hstack((np.ones((X.shape[0],1)), X))\n",
        "    \n",
        "    return X_aug\n",
        "    "
      ]
    },
    {
      "cell_type": "code",
      "execution_count": 24,
      "metadata": {
        "id": "jaH-8Y1wYjhN"
      },
      "outputs": [],
      "source": [
        "### edTest(test_Z1) ###\n",
        "\n",
        "# Add a column of ones\n",
        "X_aug = add_ones_col(X)\n",
        "\n",
        "# Stack the biases to the weight matrix\n",
        "W1 = np.vstack((b1, w1))\n",
        "\n",
        "# Compute Z1 based on the equation above\n",
        "Z1 = X_aug @ W1"
      ]
    },
    {
      "cell_type": "markdown",
      "metadata": {
        "id": "uJ9Z88n8YjhN"
      },
      "source": [
        "Next, we use our non-linearity\n",
        "$$\n",
        "\\textit{a}_{\\text{relu}}(\\textbf{Z}^1)=\n",
        "\\begin{bmatrix}\n",
        "h_{11} & h_{12} & h_{13}\\\\\n",
        "h_{21} & h_{22} & h_{23}\\\\\n",
        "\\vdots & \\vdots & \\vdots \\\\\n",
        "h_{n1} & h_{n2} & h_{n3}\\\\\n",
        "\\end{bmatrix}= \\textbf{H}\n",
        "$$\n",
        "\n",
        "\n",
        "\n",
        "<span style='color:blue'>1. Define the ReLU activation</span><div></div>\n",
        "<span style='color:blue'>2. use `plot_activation_func` to confirm implementation</span><div></div>\n",
        "<span style='color:blue'>3. Use relu on `Z1` to create `H`</span>"
      ]
    },
    {
      "cell_type": "code",
      "execution_count": 25,
      "metadata": {
        "id": "1HmI2uwmYjhN"
      },
      "outputs": [],
      "source": [
        "def relu(z):\n",
        "    # Recall the Relu activation function from NN 1 lecture\n",
        "    \n",
        "    # Your code here\n",
        "    h = np.maximum(0,z)\n",
        "    \n",
        "    return h\n",
        "    "
      ]
    },
    {
      "cell_type": "code",
      "execution_count": 26,
      "metadata": {
        "colab": {
          "base_uri": "https://localhost:8080/",
          "height": 295
        },
        "id": "3c5TTOJDYjhN",
        "outputId": "f51b5830-025a-4a8c-a4ad-52e79c7ded94"
      },
      "outputs": [
        {
          "output_type": "display_data",
          "data": {
            "text/plain": [
              "<Figure size 432x288 with 1 Axes>"
            ],
            "image/png": "[encoded data removed]"
          },
          "metadata": {
            "needs_background": "light"
          }
        }
      ],
      "source": [
        "# Helper code to plot the activation function\n",
        "def plot_activation_func(f, name):\n",
        "    lin_x = np.linspace(-10,10,200)\n",
        "    h = f(lin_x)\n",
        "    plt.plot(lin_x, h)\n",
        "    plt.xlabel('x')\n",
        "    plt.ylabel('y')\n",
        "    plt.title(f'{name} Activation Function')\n",
        "\n",
        "plot_activation_func(relu, name='RELU')\n"
      ]
    },
    {
      "cell_type": "code",
      "execution_count": 27,
      "metadata": {
        "id": "m1YSpEvKYjhO"
      },
      "outputs": [],
      "source": [
        "### edTest(test_relu) ###\n",
        "\n",
        "# Activate Z1 to get H\n",
        "H = relu(Z1)\n"
      ]
    },
    {
      "cell_type": "markdown",
      "metadata": {
        "id": "ehMw4-MTYjhO"
      },
      "source": [
        "The next step is very similar to the first and so we've filled it in for you.\n",
        "\n",
        "$$\n",
        "\\begin{bmatrix}\n",
        "1 & h_{11} & h_{12} & h_{13}\\\\\n",
        "1 & h_{21} & h_{22} & h_{23}\\\\\n",
        "\\vdots & \\vdots & \\vdots & \\vdots \\\\\n",
        "1 & h_{n1} & h_{n2} & h_{n3}\\\\\n",
        "\\end{bmatrix}\n",
        "\\begin{bmatrix}\n",
        "b_{1}^2 & b_{2}^2 & b_{3}^2\\\\\n",
        "W_{11}^2 & W_{12}^2 & W_{13}^2\\\\\n",
        "W_{21}^2 & W_{22}^2 & W_{23}^2\\\\\n",
        "W_{31}^2 & W_{32}^2 & W_{33}^2\\\\\n",
        "\\end{bmatrix}=\n",
        "\\begin{bmatrix}\n",
        "z_{11}^2 & z_{12}^2 & z_{13}^2\\\\\n",
        "z_{21}^2 & z_{22}^2 & z_{23}^2\\\\\n",
        "\\vdots & \\vdots & \\vdots \\\\\n",
        "z_{n1}^2 & z_{n2}^2 & z_{n3}^2\\\\\n",
        "\\end{bmatrix} = \\textbf{Z}^2\n",
        "$$\n",
        "\n",
        "\n",
        "<span style='color:blue'>1. Augment `H` with ones to create `H_aug`</span><div></div>\n",
        "<span style='color:blue'>2. Combine `w2` and `b2` to create the output weight matric `W2`</span><div></div>\n",
        "<span style='color:blue'>3. Perform the matrix multiplication to produce `Z2`</span><div></div>"
      ]
    },
    {
      "cell_type": "code",
      "execution_count": 28,
      "metadata": {
        "id": "LE49hrn_YjhO"
      },
      "outputs": [],
      "source": [
        "### edTest(test_Z2) ###\n",
        "\n",
        "# Add a column of ones to H using the function defined\n",
        "H_aug = add_ones_col(H)\n",
        "\n",
        "# Add biases to weight matrix by stacking\n",
        "W2 = np.vstack((b2, w2))\n",
        "\n",
        "# Compute Z2 based on the equation above\n",
        "Z2 = H_aug @ W2\n"
      ]
    },
    {
      "cell_type": "markdown",
      "metadata": {
        "id": "XKcEFJJfYjhO"
      },
      "source": [
        "Finally we use the softmax activation on `Z2`. Now for each observation we have an output vector of length 3 which can be interpreted as a probability (they sum to 1).\n",
        "$$\n",
        "\\textit{a}_{\\text{softmax}}(\\textbf{Z}^2)=\n",
        "\\begin{bmatrix}\n",
        "\\hat{y}_{11} & \\hat{y}_{12} & \\hat{y}_{13}\\\\\n",
        "\\hat{y}_{21} & \\hat{y}_{22} & \\hat{y}_{23}\\\\\n",
        "\\vdots & \\vdots & \\vdots \\\\\n",
        "\\hat{y}_{n1} & \\hat{y}_{n2} & \\hat{y}_{n3}\\\\\n",
        "\\end{bmatrix}\n",
        "= \\hat{\\textbf{Y}}\n",
        "$$\n",
        "\n",
        "<span style='color:blue'>1. Define softmax</span><div></div>\n",
        "<span style='color:blue'>2. Use `softmax` on `Z2` to create `Y_hat`</span><div></div>"
      ]
    },
    {
      "cell_type": "code",
      "execution_count": 29,
      "metadata": {
        "id": "H5t-zXV_YjhP"
      },
      "outputs": [],
      "source": [
        "def softmax(z):\n",
        "\n",
        "    '''\n",
        "    Input: z - 2D numpy array of logits \n",
        "           rows are observations, classes are columns \n",
        "    Returns: y_hat - 2D numpy array of probabilities\n",
        "             rows are observations, classes are columns \n",
        "    '''\n",
        "    exp_z = np.exp(z)\n",
        "    sum_exp_z = np.sum(exp_z, axis=1, keepdims=True)\n",
        "\n",
        "    # Hint: we are summing across the columns\n",
        "    # Ensure you maintain the same dimension as the input\n",
        "    y_hat = exp_z / sum_exp_z\n",
        "    \n",
        "    return y_hat\n"
      ]
    },
    {
      "cell_type": "code",
      "execution_count": 30,
      "metadata": {
        "id": "7CqC131zYjhP"
      },
      "outputs": [],
      "source": [
        "### edTest(test_softmax) ###\n",
        "\n",
        "# Call the defined softmax function to get Y_hat\n",
        "Y_hat = softmax(Z2)\n"
      ]
    },
    {
      "cell_type": "code",
      "execution_count": 33,
      "metadata": {
        "colab": {
          "base_uri": "https://localhost:8080/"
        },
        "id": "aNqU0DkcYjhP",
        "outputId": "860ffa39-7fdf-4f24-8c0e-d7cd4d9e7631"
      },
      "outputs": [
        {
          "output_type": "stream",
          "name": "stdout",
          "text": [
            "accuracy: 96.67%\n"
          ]
        }
      ],
      "source": [
        "### edTest(test_acc) ###\n",
        "\n",
        "# From the softmax output, get the predicted y\n",
        "y_hat = np.argmax(Y_hat, axis=1)\n",
        "\n",
        "# Compute the accuracy of your prediction\n",
        "acc = np.mean(y == y_hat)\n",
        "print(f'accuracy: {acc:.2%}')\n"
      ]
    },
    {
      "cell_type": "code",
      "source": [],
      "metadata": {
        "id": "vqCkrLEodWV3"
      },
      "execution_count": null,
      "outputs": []
    }
  ]
}