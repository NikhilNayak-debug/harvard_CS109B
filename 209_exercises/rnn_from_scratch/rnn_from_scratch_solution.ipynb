{
    "metadata": {
        "kernelspec": {
            "name": "python3",
            "display_name": "Python 3 (ipykernel)",
            "language": "python"
        }
    },
    "nbformat": 4,
    "nbformat_minor": 0,
    "cells": [
        {
            "cell_type": "code",
            "execution_count": 41,
            "metadata": {},
            "outputs": [],
            "source": [
                "# Import necessary libraries\n",
                "import random\n",
                "import numpy as np\n",
                "from helper import softmax, get_weights\n",
                ""
            ]
        },
        {
            "cell_type": "code",
            "execution_count": 43,
            "metadata": {},
            "outputs": [
                {
                    "name": "stdout",
                    "output_type": "stream",
                    "text": "There are 19910 total characters and 27 unique characters in your data.\n"
                }
            ],
            "source": [
                "# Read the dinos.txt file\n",
                "data = open('dinos.txt', 'r').read()\n",
                "\n",
                "# Convert the data to lower case\n",
                "data= data.lower()\n",
                "\n",
                "# Convert the file data into list\n",
                "chars = list(set(data))\n",
                "\n",
                "# Get length of the file and length of the vocabulary\n",
                "data_size, vocab_size = len(data), len(chars)\n",
                "\n",
                "# Define dictionary of alphabets:integer\n",
                "char_to_ix = { ch:i for i,ch in enumerate(sorted(chars)) }\n",
                "\n",
                "# Define dictionary of integer:alphabets\n",
                "ix_to_char = { i:ch for i,ch in enumerate(sorted(chars)) }\n",
                "\n",
                "# Call the get_weights function from the helper file to get the model weights\n",
                "# To get random weights set random=1\n",
                "# To get the trained weights specify the number of iterations and set random=0\n",
                "parameters = get_weights(num_iterations=15000, random=0)\n",
                ""
            ]
        },
        {
            "cell_type": "code",
            "execution_count": 42,
            "metadata": {},
            "outputs": [],
            "source": [
                "# Function to predict the next set of characters which forms the dinosaur name\n",
                "def rnn_model(parameters, char_to_ix):\n",
                "\n",
                "    # Get the weights and biases from the parameters dictionary\n",
                "    U, V, W, beta1, beta2 = parameters['U'], parameters['V'], parameters['W'], parameters['beta1'], parameters['beta2']\n",
                "\n",
                "    # Get the size of the vocabulary i.e. 27\n",
                "    # One for each alphabet plus the new line character\n",
                "    vocab_size = beta2.shape[0]\n",
                "\n",
                "    # Get the size of the weights\n",
                "    n_h = U.shape[1]    \n",
                "\n",
                "    # Initialize an array of zeros with size as the vocabulary size\n",
                "    x = np.zeros((vocab_size, 1))\n",
                "\n",
                "    # Initialize an array of zeros with size as the hidden state size    \n",
                "    h_prev = np.zeros((n_h, 1))\n",
                "\n",
                "    # Initialize a list to store the indices of the predicted characters\n",
                "    indices = []\n",
                "    \n",
                "    # Initialize an idx variable to hold the index values of the characters \n",
                "    idx = -1 \n",
                "    \n",
                "    # Initialize a counter to fix the maximum length of the predicted word\n",
                "    counter = 0\n",
                "\n",
                "    # Get the value of the new line from the char_to_ix dictionary\n",
                "    newline_character = char_to_ix['\\n']\n",
                "    \n",
                "    # Loop until the newline_character is predicted or until the max length of the word is 50\n",
                "    while (idx != newline_character and counter != 50):\n",
                "\n",
                "        # Compute the new state h of the RNN unit using the equation given in the instructions\n",
                "        h = np.tanh(np.dot(V, x) + np.dot(U, h_prev) + beta1)\n",
                "\n",
                "        # Compute the output of the RNN unit using the equation given in the instructions\n",
                "        y = softmax(np.dot(W, h) + beta2)\n",
                "        \n",
                "        # Get the index value of the predicted character\n",
                "        idx = np.random.choice(list(range(vocab_size)), p=y.ravel())\n",
                "\n",
                "        # Append the index value to the indices list\n",
                "        indices.append(idx)\n",
                "        \n",
                "        # Initialize an input with zeros\n",
                "        x = np.zeros((vocab_size, 1))\n",
                "        x[idx] = 1\n",
                "        \n",
                "        # Update the previous state value with the current state\n",
                "        h_prev = h\n",
                "        \n",
                "        # Increment the counter\n",
                "        counter +=1\n",
                "    \n",
                "    # If the counter value reaches 50 append a newline character to the indices list\n",
                "    if (counter == 50):\n",
                "        indices.append(char_to_ix['\\n'])\n",
                "    \n",
                "    # Return the list of indices\n",
                "    return indices\n",
                ""
            ]
        },
        {
            "cell_type": "code",
            "execution_count": 44,
            "metadata": {},
            "outputs": [
                {
                    "name": "stdout",
                    "output_type": "stream",
                    "text": "Slnoria\n"
                }
            ],
            "source": [
                "# Call the rnn_model function to generate a Dinosaur name\n",
                "generated_indices = rnn_model(parameters, char_to_ix)\n",
                "\n",
                "# Convert the list of indices returned by the predict function to \n",
                "# their respective characters and then join to form a word\n",
                "txt = ''.join(ix_to_char[ix] for ix in generated_indices)\n",
                "\n",
                "# Captializing the first character\n",
                "txt = txt[0].upper() + txt[1:] \n",
                "\n",
                "# Print the generated word\n",
                "print('%s' % (txt, ), end='')"
            ]
        }
    ]
}
