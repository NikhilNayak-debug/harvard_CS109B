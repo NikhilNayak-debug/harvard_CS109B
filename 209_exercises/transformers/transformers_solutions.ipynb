{
    "metadata": {
        "kernelspec": {
            "name": "python3",
            "display_name": "Python 3 (ipykernel)",
            "language": "python"
        }
    },
    "nbformat": 4,
    "nbformat_minor": 2,
    "cells": [
        {
            "cell_type": "code",
            "execution_count": 1,
            "metadata": {},
            "outputs": [],
            "source": [
                "# Import necessary libraries\n",
                "import time\n",
                "import string\n",
                "import re\n",
                "import random\n",
                "import numpy as np\n",
                "import pandas as pd\n",
                "import matplotlib.pyplot as plt\n",
                "\n",
                "import tensorflow as tf\n",
                "from tensorflow.python.keras import backend as K\n",
                "\n",
                "AUTOTUNE = tf.data.experimental.AUTOTUNE"
            ]
        },
        {
            "cell_type": "code",
            "execution_count": 2,
            "metadata": {},
            "outputs": [],
            "source": [
                "# Read the English to Spanish datafile into a pandas dataframe\n",
                "# Use columns [0,1] with tab as the seperator, no head\n",
                "# Set the names of the columns as \"English\" and \"Spanish\"\n",
                "data = pd.read_csv('spa.txt', sep='\\t', header=None, usecols=[0,1], names=['English', 'Spanish'])"
            ]
        },
        {
            "cell_type": "code",
            "execution_count": 3,
            "metadata": {},
            "outputs": [
                {
                    "data": {
                        "text/html": "\u003cdiv\u003e\n\u003cstyle scoped\u003e\n    .dataframe tbody tr th:only-of-type {\n        vertical-align: middle;\n    }\n\n    .dataframe tbody tr th {\n        vertical-align: top;\n    }\n\n    .dataframe thead th {\n        text-align: right;\n    }\n\u003c/style\u003e\n\u003ctable border=\"1\" class=\"dataframe\"\u003e\n  \u003cthead\u003e\n    \u003ctr style=\"text-align: right;\"\u003e\n      \u003cth\u003e\u003c/th\u003e\n      \u003cth\u003eEnglish\u003c/th\u003e\n      \u003cth\u003eSpanish\u003c/th\u003e\n    \u003c/tr\u003e\n  \u003c/thead\u003e\n  \u003ctbody\u003e\n    \u003ctr\u003e\n      \u003cth\u003e0\u003c/th\u003e\n      \u003ctd\u003eGo.\u003c/td\u003e\n      \u003ctd\u003eVe.\u003c/td\u003e\n    \u003c/tr\u003e\n    \u003ctr\u003e\n      \u003cth\u003e1\u003c/th\u003e\n      \u003ctd\u003eGo.\u003c/td\u003e\n      \u003ctd\u003eVete.\u003c/td\u003e\n    \u003c/tr\u003e\n    \u003ctr\u003e\n      \u003cth\u003e2\u003c/th\u003e\n      \u003ctd\u003eGo.\u003c/td\u003e\n      \u003ctd\u003eVaya.\u003c/td\u003e\n    \u003c/tr\u003e\n    \u003ctr\u003e\n      \u003cth\u003e3\u003c/th\u003e\n      \u003ctd\u003eGo.\u003c/td\u003e\n      \u003ctd\u003eVáyase.\u003c/td\u003e\n    \u003c/tr\u003e\n    \u003ctr\u003e\n      \u003cth\u003e4\u003c/th\u003e\n      \u003ctd\u003eHi.\u003c/td\u003e\n      \u003ctd\u003eHola.\u003c/td\u003e\n    \u003c/tr\u003e\n  \u003c/tbody\u003e\n\u003c/table\u003e\n\u003c/div\u003e",
                        "text/plain": "  English  Spanish\n0     Go.      Ve.\n1     Go.    Vete.\n2     Go.    Vaya.\n3     Go.  Váyase.\n4     Hi.    Hola."
                    },
                    "execution_count": 3,
                    "metadata": {},
                    "output_type": "execute_result"
                }
            ],
            "source": [
                "# Take a quick look at the dataframe\n",
                "data.head()"
            ]
        },
        {
            "cell_type": "code",
            "execution_count": 4,
            "metadata": {},
            "outputs": [
                {
                    "name": "stdout",
                    "output_type": "stream",
                    "text": "Shape: (10000, 2)\n"
                }
            ],
            "source": [
                "# Subset data to just the first 10000 rows so that we train on Ed\n",
                "data = data[:10000]\n",
                "print(\"Shape:\",data.shape)"
            ]
        },
        {
            "cell_type": "code",
            "execution_count": 21,
            "metadata": {},
            "outputs": [],
            "source": [
                "# For each English and Spanish sentence in the dataframe \n",
                "# add the start \u003cs\u003e and end \u003c/s\u003e tokens\n",
                "data.Spanish = '\u003cs\u003e '+data.Spanish+' \u003c/s\u003e'"
            ]
        },
        {
            "cell_type": "code",
            "execution_count": 10,
            "metadata": {},
            "outputs": [
                {
                    "name": "stderr",
                    "output_type": "stream",
                    "text": "2022-03-31 22:52:09.645091: I tensorflow/core/platform/cpu_feature_guard.cc:151] This TensorFlow binary is optimized with oneAPI Deep Neural Network Library (oneDNN) to use the following CPU instructions in performance-critical operations:  SSE3 SSE4.1 SSE4.2 AVX AVX2 FMA\nTo enable them in other operations, rebuild TensorFlow with the appropriate compiler flags.\n2022-03-31 22:52:09.645391: I tensorflow/core/common_runtime/process_util.cc:146] Creating new thread pool with default inter op setting: 2. Tune using inter_op_parallelism_threads for best performance.\n"
                }
            ],
            "source": [
                "vocab_size = 5000\n",
                "sequence_length = 8 #20\n",
                "\n",
                "# Build a function to clean spanish text\n",
                "# Convert to lower case\n",
                "# filter out the special spanish token ¡ and ¿ commonly used in formal spanish\n",
                "strip_chars = '!\"#$%\u0026\\'()*+,-.:;=?@[\\]^_`{|}~¿¡'\n",
                "def standardize_text(input_string):\n",
                "    lowercase = tf.strings.lower(input_string)\n",
                "    return tf.strings.regex_replace(\n",
                "        lowercase, f\"[{re.escape(strip_chars)}]\", \"\")\n",
                "\n",
                "# Create a vectorization object for Spanish\n",
                "vectorization_spa = tf.keras.layers.TextVectorization(\n",
                "    max_tokens=vocab_size,\n",
                "    output_mode=\"int\",\n",
                "    output_sequence_length=sequence_length + 1,\n",
                "    standardize=standardize_text,\n",
                ")\n",
                "\n",
                "# Create a vectorization object for English\n",
                "vectorization_eng = tf.keras.layers.TextVectorization(\n",
                "    max_tokens=vocab_size,\n",
                "    output_mode=\"int\",\n",
                "    output_sequence_length=sequence_length,\n",
                ")\n",
                ""
            ]
        },
        {
            "cell_type": "code",
            "execution_count": 11,
            "metadata": {},
            "outputs": [],
            "source": [
                "# Fit both vectorizations on all the text in the dataframe for each language \n",
                "vectorization_eng.adapt(data.English)\n",
                "vectorization_spa.adapt(data.Spanish)"
            ]
        },
        {
            "cell_type": "code",
            "execution_count": 12,
            "metadata": {},
            "outputs": [
                {
                    "name": "stdout",
                    "output_type": "stream",
                    "text": "train_data \u003cPrefetchDataset element_spec=((TensorSpec(shape=(None, 8), dtype=tf.int64, name=None), TensorSpec(shape=(None, 8), dtype=tf.int64, name=None)), TensorSpec(shape=(None, 8), dtype=tf.int64, name=None))\u003e\n"
                }
            ],
            "source": [
                "# Build Data Pipelines using TF Dataset\n",
                "\n",
                "# Set batch size to 256 and train shuffle buffer size to 5000\n",
                "batch_size = 256\n",
                "train_shuffle_buffer_size = 5000\n",
                "\n",
                "# Write a mapping function to process the input data\n",
                "# First vectorize both english and spanish.\n",
                "# Since we are using the decoder to predict the next word, the target language must be processed. \n",
                "# The source data and target must be shifted by one position\n",
                "def process(eng, spa):\n",
                "    eng = vectorization_eng(eng)\n",
                "    spa = vectorization_spa(spa)\n",
                "    return (eng,spa[:, :-1]), spa[:, 1:]\n",
                "\n",
                "# Create TF Dataset, pass in english and spanish as x,y\n",
                "train_data = tf.data.Dataset.from_tensor_slices((data.English, data.Spanish))\n",
                "\n",
                "#############\n",
                "# Train data\n",
                "#############\n",
                "# Apply all data processing logic\n",
                "train_data = train_data.shuffle(buffer_size=train_shuffle_buffer_size)\n",
                "train_data = train_data.batch(batch_size)\n",
                "train_data = train_data.map(process, num_parallel_calls=AUTOTUNE)\n",
                "train_data = train_data.prefetch(AUTOTUNE)\n",
                "\n",
                "print(\"train_data\",train_data)"
            ]
        },
        {
            "attachments": {},
            "cell_type": "markdown",
            "metadata": {},
            "source": [
                "**Positional Encoding**\n",
                "\n",
                "\u003cimg src=\"https://storage.googleapis.com/public_colab_images/nlp/positional_encoding.png\" width=\"350\"\u003e"
            ]
        },
        {
            "cell_type": "code",
            "execution_count": 13,
            "metadata": {},
            "outputs": [],
            "source": [
                "# Write a function to generate positional encodings\n",
                "\n",
                "def generate_positional_encoding(max_length, model_size):\n",
                "    pos_enc = np.array(\n",
                "        [\n",
                "            [pos / np.power(10000, 2 * (j // 2) / model_size) for j in range(model_size)]\n",
                "            if pos != 0\n",
                "            else np.zeros(model_size)\n",
                "            for pos in range(max_length)\n",
                "        ]\n",
                "    )\n",
                "    pos_enc[1:, 0::2] = np.sin(pos_enc[1:, 0::2])  # dim 2i\n",
                "    pos_enc[1:, 1::2] = np.cos(pos_enc[1:, 1::2])  # dim 2i+1\n",
                "    return pos_enc"
            ]
        },
        {
            "cell_type": "code",
            "execution_count": 22,
            "metadata": {},
            "outputs": [
                {
                    "name": "stdout",
                    "output_type": "stream",
                    "text": "(60, 256)\n"
                }
            ],
            "source": [
                "# Generate postional encodings for sequence length of 60 and embedding dimension of 256\n",
                "positional_encodings = generate_positional_encoding(60, 256)\n",
                "print(positional_encodings.shape)"
            ]
        },
        {
            "cell_type": "code",
            "execution_count": 23,
            "metadata": {},
            "outputs": [],
            "source": [
                "# Compute the dot product of postion 1 with every other postions\n",
                "dot_results = []\n",
                "for idx in range(positional_encodings.shape[0]):\n",
                "  dot_results.append(np.dot(positional_encodings[1], positional_encodings[idx]))"
            ]
        },
        {
            "cell_type": "code",
            "execution_count": 24,
            "metadata": {},
            "outputs": [
                {
                    "data": {
                        "image/png": "[encoded data removed]",
                        "text/plain": "\u003cFigure size 1440x360 with 1 Axes\u003e"
                    },
                    "metadata": {
                        "needs_background": "light"
                    },
                    "output_type": "display_data"
                }
            ],
            "source": [
                "# Plot the dot product results\n",
                "fig = plt.figure(figsize=(20,5))\n",
                "axs = fig.add_subplot(1,3,1)\n",
                "axs.plot(np.arange(0, positional_encodings.shape[0]), dot_results)\n",
                "axs.set_xlabel('Positions')\n",
                "axs.set_ylabel('Dot product of positions')\n",
                "plt.show()"
            ]
        },
        {
            "attachments": {},
            "cell_type": "markdown",
            "metadata": {},
            "source": [
                "### ⏸ Why do we need to implement positional encoding?\n",
                "#### A. The transformer encoder needs a way to map token postions to the decoder \n",
                "#### B. Positional encoding helps the token embedding add context to them\n",
                "#### C. A transformer reads in the entire input sequence at once and therefore is order agnositic\n",
                "#### D. Positional encoding adds noise to input sequence to make back propagation more stable"
            ]
        },
        {
            "cell_type": "code",
            "execution_count": 0,
            "metadata": {},
            "outputs": [],
            "source": [
                "### edTest(test_chow1) ###\n",
                "# Submit an answer choice as a string below (eg. if you choose option A, put 'A')\n",
                "answer1 = 'C'"
            ]
        },
        {
            "cell_type": "code",
            "execution_count": 14,
            "metadata": {},
            "outputs": [],
            "source": [
                "# Create a Positional Embedding layer that combines\n",
                "# token embedding with positional encoding\n",
                "class PositionalEmbedding(tf.keras.layers.Layer):\n",
                "    def __init__(self, sequence_length, input_dim, output_dim):\n",
                "      super().__init__()\n",
                "\n",
                "      # Layer parameters\n",
                "      self.sequence_length = sequence_length\n",
                "      self.input_dim = input_dim\n",
                "      self.output_dim = output_dim\n",
                "\n",
                "      # Token embedding Layer\n",
                "      self.token_embeddings = tf.keras.layers.Embedding(input_dim=input_dim, output_dim=output_dim)\n",
                "\n",
                "    def call(self, inputs):\n",
                "      # Generate token embeddings\n",
                "      embedded_tokens = self.token_embeddings(inputs)\n",
                "      # Add positional encoding to tge token embedding\n",
                "      return embedded_tokens + generate_positional_encoding(self.sequence_length,self.output_dim)\n",
                "\n",
                "    def compute_mask(self, inputs, mask=None):\n",
                "        return tf.math.not_equal(inputs, 0)"
            ]
        },
        {
            "attachments": {},
            "cell_type": "markdown",
            "metadata": {},
            "source": [
                "**Transformer Encoder**\n",
                "\n",
                "\u003cimg src=\"https://storage.googleapis.com/public_colab_images/nlp/transformer_encoder.png\" height=\"300\"\u003e"
            ]
        },
        {
            "cell_type": "code",
            "execution_count": 15,
            "metadata": {},
            "outputs": [],
            "source": [
                "# Create the Transformer Encoder\n",
                "class Encoder(tf.keras.layers.Layer):\n",
                "    def __init__(self, embed_dim, dense_dim, num_heads):\n",
                "        super().__init__()\n",
                "        # Layer parameters\n",
                "        self.embed_dim = embed_dim\n",
                "        self.dense_dim = dense_dim\n",
                "        self.num_heads = num_heads\n",
                "\n",
                "        # MultiHeadAttention Layer - Self Attention\n",
                "        self.attention = tf.keras.layers.MultiHeadAttention(num_heads=num_heads, key_dim=embed_dim)\n",
                "        # Normalization Layer\n",
                "        self.attention_norm = tf.keras.layers.LayerNormalization()\n",
                "\n",
                "        # Dense projection\n",
                "        self.dense_proj = tf.keras.Sequential(\n",
                "            [tf.keras.layers.Dense(units=dense_dim, activation=\"relu\"),\n",
                "             tf.keras.layers.Dense(units=embed_dim)]\n",
                "        )\n",
                "        # Normalization Layer\n",
                "        self.dense_projection_norm = tf.keras.layers.LayerNormalization()\n",
                "\n",
                "    def call(self, inputs, mask=None):\n",
                "        # Apply mask\n",
                "        if mask is not None:\n",
                "            mask = mask[:, tf.newaxis, :]\n",
                "        \n",
                "        # Compute Self Attention\n",
                "        self_attention = self.attention(query=inputs, value=inputs, key=inputs, attention_mask=mask)\n",
                "        # Apply Normalization + Residual connection\n",
                "        self_attention = self.attention_norm(inputs + self_attention)\n",
                "\n",
                "        # Apply projection\n",
                "        layer_output = self.dense_proj(self_attention)\n",
                "        # Apply Normalization + Residual connection\n",
                "        layer_output = self.dense_projection_norm(self_attention + layer_output)\n",
                "        return layer_output"
            ]
        },
        {
            "attachments": {},
            "cell_type": "markdown",
            "metadata": {},
            "source": [
                "### ⏸ Query, Key, Value in a Multi Head Attention layer are used for:\n",
                "#### A. Lookup tables to find contextual mappings between words\n",
                "#### B. Training weights\n",
                "#### C. Transformation functions"
            ]
        },
        {
            "cell_type": "code",
            "execution_count": 0,
            "metadata": {},
            "outputs": [],
            "source": [
                "### edTest(test_chow2) ###\n",
                "# Submit an answer choice as a string below (eg. if you choose option A, put 'A')\n",
                "answer2 = 'B'"
            ]
        },
        {
            "attachments": {},
            "cell_type": "markdown",
            "metadata": {},
            "source": [
                "**Transformer Decoder**\n",
                "\n",
                "\u003cimg src=\"https://storage.googleapis.com/public_colab_images/nlp/transformer_decoder.png\" height=\"400\"\u003e"
            ]
        },
        {
            "cell_type": "code",
            "execution_count": 16,
            "metadata": {},
            "outputs": [],
            "source": [
                "# Create the Transformer decoder\n",
                "class Decoder(tf.keras.layers.Layer):\n",
                "    def __init__(self, embed_dim, dense_dim, num_heads):\n",
                "        super().__init__()\n",
                "        # Layer parameters\n",
                "        self.embed_dim = embed_dim\n",
                "        self.dense_dim = dense_dim\n",
                "        self.num_heads = num_heads\n",
                "\n",
                "        # MultiHeadAttention Layer - Self Attention\n",
                "        self.attention_1 = tf.keras.layers.MultiHeadAttention(num_heads=num_heads, key_dim=embed_dim)\n",
                "        # Normalization Layer\n",
                "        self.attention_1_norm = tf.keras.layers.LayerNormalization()\n",
                "\n",
                "        # MultiHeadAttention Layer - Encoder-Decoder Attention\n",
                "        self.attention_2 = tf.keras.layers.MultiHeadAttention(num_heads=num_heads, key_dim=embed_dim)\n",
                "        # Normalization Layer\n",
                "        self.attention_2_norm = tf.keras.layers.LayerNormalization()\n",
                "\n",
                "        # Dense projection\n",
                "        self.dense_proj = tf.keras.Sequential(\n",
                "            [tf.keras.layers.Dense(units=dense_dim, activation=\"relu\"),\n",
                "             tf.keras.layers.Dense(units=embed_dim)]\n",
                "        )\n",
                "        # Normalization Layer\n",
                "        self.dense_projection_norm = tf.keras.layers.LayerNormalization()\n",
                "\n",
                "        # Set supports_masking to ensures that the layer will propagate its input mask to its outputs\n",
                "        self.supports_masking = True\n",
                "\n",
                "    def get_causal_attention_mask(self, inputs):\n",
                "        \"\"\"\n",
                "        Method that generates a causal mask:\n",
                "        Since the decoder looks at the entire sequence at once, we need to mask the future\n",
                "        \"\"\"\n",
                "        input_shape = tf.shape(inputs)\n",
                "        batch_size, sequence_length = input_shape[0], input_shape[1]\n",
                "        i = tf.range(sequence_length)[:, tf.newaxis]\n",
                "        j = tf.range(sequence_length)\n",
                "        mask = tf.cast(i \u003e= j, dtype=\"int32\")\n",
                "        mask = tf.reshape(mask, (1, input_shape[1], input_shape[1]))\n",
                "        mult = tf.concat(\n",
                "            [tf.expand_dims(batch_size, -1),\n",
                "             tf.constant([1, 1], dtype=tf.int32)], axis=0)\n",
                "        return tf.tile(mask, mult)\n",
                "\n",
                "    def call(self, inputs, encoder_outputs, mask=None):\n",
                "        # Get Causal Attention Mask\n",
                "        causal_mask = self.get_causal_attention_mask(inputs)\n",
                "        # Apply Padding Masks\n",
                "        if mask is not None:\n",
                "            padding_mask = tf.cast(mask[:, tf.newaxis, :], dtype=\"int32\")\n",
                "            padding_mask = tf.minimum(padding_mask, causal_mask)\n",
                "        \n",
                "        # Compute Self Attention\n",
                "        self_attention = self.attention_1(query=inputs,\n",
                "                                              value=inputs,\n",
                "                                              key=inputs,attention_mask=causal_mask)\n",
                "        # Apply Normalization + Residual connection\n",
                "        self_attention = self.attention_1_norm(inputs + self_attention)\n",
                "\n",
                "        # Compute Encoder-Decoder Attention\n",
                "        encoder_decoder_attention = self.attention_2(query=self_attention,\n",
                "                                              value=encoder_outputs,\n",
                "                                              key=encoder_outputs,attention_mask=padding_mask)\n",
                "        # Apply Normalization + Residual connection\n",
                "        encoder_decoder_attention = self.attention_2_norm(self_attention + encoder_decoder_attention)\n",
                "\n",
                "        # Apply projection\n",
                "        layer_output = self.dense_proj(encoder_decoder_attention)\n",
                "        # Apply Normalization + Residual connection\n",
                "        layer_output = self.dense_projection_norm(encoder_decoder_attention + layer_output)\n",
                "        return layer_output"
            ]
        },
        {
            "attachments": {},
            "cell_type": "markdown",
            "metadata": {},
            "source": [
                "### ⏸ The second Multi Head Attention layer in the decoder (attention_2):\n",
                "#### A. Computes the attention score on the decoder inputs with respect to the encoder outputs \n",
                "#### B. Computes the self attention scores for the decoder inputs"
            ]
        },
        {
            "cell_type": "code",
            "execution_count": 0,
            "metadata": {},
            "outputs": [],
            "source": [
                "### edTest(test_chow3) ###\n",
                "# Submit an answer choice as a string below (eg. if you choose option A, put 'A')\n",
                "answer3 = 'A'"
            ]
        },
        {
            "cell_type": "code",
            "execution_count": 17,
            "metadata": {},
            "outputs": [],
            "source": [
                "############################\n",
                "# Training Params\n",
                "############################\n",
                "learning_rate = 0.001\n",
                "epochs = 20\n",
                "embedding_dim = 128\n",
                "dense_dim = 512\n",
                "num_heads = 4\n",
                "\n",
                "# Free up memory\n",
                "tf.keras.backend.clear_session()\n",
                "\n",
                "# Build the model\n",
                "# Model input\n",
                "inputs_eng = tf.keras.Input(shape=[None])\n",
                "inputs_spa = tf.keras.Input(shape=[None])\n",
                "\n",
                "# Build the Encoder\n",
                "encoder_ip = PositionalEmbedding(sequence_length, vocab_size, embedding_dim)(inputs_eng)\n",
                "encoder_op = Encoder(embedding_dim, dense_dim, num_heads)(encoder_ip)\n",
                "\n",
                "# Build the Decoder\n",
                "decoder_ip = PositionalEmbedding(sequence_length, vocab_size, embedding_dim)(inputs_spa)\n",
                "decoder_op = Decoder(embedding_dim, dense_dim, num_heads)(decoder_ip, encoder_op)\n",
                "decoder_op = tf.keras.layers.Dropout(0.5)(decoder_op)\n",
                "\n",
                "# Output Layer\n",
                "output = tf.keras.layers.Dense(units=vocab_size, activation=\"softmax\")(decoder_op)\n",
                "\n",
                "# Create model\n",
                "model = tf.keras.Model([inputs_eng, inputs_spa], output)"
            ]
        },
        {
            "cell_type": "code",
            "execution_count": 18,
            "metadata": {},
            "outputs": [
                {
                    "name": "stdout",
                    "output_type": "stream",
                    "text": "Model: \"model\"\n__________________________________________________________________________________________________\n Layer (type)                   Output Shape         Param #     Connected to                     \n==================================================================================================\n input_1 (InputLayer)           [(None, None)]       0           []                               \n                                                                                                  \n input_2 (InputLayer)           [(None, None)]       0           []                               \n                                                                                                  \n positional_embedding (Position  (None, 8, 128)      640000      ['input_1[0][0]']                \n alEmbedding)                                                                                     \n                                                                                                  \n positional_embedding_1 (Positi  (None, 8, 128)      640000      ['input_2[0][0]']                \n onalEmbedding)                                                                                   \n                                                                                                  \n encoder (Encoder)              (None, 8, 128)       396032      ['positional_embedding[0][0]']   \n                                                                                                  \n decoder (Decoder)              (None, 8, 128)       660096      ['positional_embedding_1[0][0]', \n                                                                  'encoder[0][0]']                \n                                                                                                  \n dropout (Dropout)              (None, 8, 128)       0           ['decoder[0][0]']                \n                                                                                                  \n dense_4 (Dense)                (None, 8, 5000)      645000      ['dropout[0][0]']                \n                                                                                                  \n==================================================================================================\nTotal params: 2,981,128\nTrainable params: 2,981,128\nNon-trainable params: 0\n__________________________________________________________________________________________________\nNone\n"
                }
            ],
            "source": [
                "# Print the model architecture\n",
                "print(model.summary())"
            ]
        },
        {
            "cell_type": "code",
            "execution_count": 25,
            "metadata": {},
            "outputs": [
                {
                    "name": "stdout",
                    "output_type": "stream",
                    "text": "Training execution time (mins) 6.545935074488322\n"
                }
            ],
            "source": [
                "# Optimizer\n",
                "optimizer = tf.keras.optimizers.RMSprop(learning_rate=learning_rate)\n",
                "# Loss\n",
                "loss = tf.keras.losses.sparse_categorical_crossentropy\n",
                "\n",
                "# Compile\n",
                "model.compile(loss=loss,optimizer=optimizer)\n",
                "\n",
                "# Train model\n",
                "start_time = time.time()\n",
                "print(\"Training...\")\n",
                "training_results = model.fit(\n",
                "        train_data,\n",
                "        epochs=epochs, \n",
                "        verbose=0)\n",
                "execution_time = (time.time() - start_time)/60.0\n",
                "print(\"Training execution time (mins)\",execution_time)"
            ]
        },
        {
            "cell_type": "code",
            "execution_count": 26,
            "metadata": {},
            "outputs": [
                {
                    "name": "stdout",
                    "output_type": "stream",
                    "text": "-\nTom drowned.\n\u003cs\u003e tomás      a \n-\nI'm not married.\n\u003cs\u003e no está libre     \n-\nI'm weak.\n\u003cs\u003e estoy borracho      \n-\nTom is tidy.\n\u003cs\u003e no está en el dinero   \n-\nYou can do it.\n\u003cs\u003e que hacerlo      \n-\nCan I help you?\n\u003cs\u003e que te conocen     \n-\nI drank a lot.\n\u003cs\u003e una vez      \n-\nLet Tom come.\n\u003cs\u003e a tom      a\n-\nTom is useless.\n\u003cs\u003e está tu un ángel    \n-\nThis is OK.\n\u003cs\u003e está bien      \n"
                }
            ],
            "source": [
                "spa_vocab = vectorization_spa.get_vocabulary()\n",
                "spa_index_lookup = dict(zip(range(len(spa_vocab)), spa_vocab))\n",
                "max_decoded_sentence_length = sequence_length\n",
                "\n",
                "def decode_sequence(input_sentence):\n",
                "    tokenized_input_sentence = vectorization_eng([input_sentence])\n",
                "    decoded_sentence = \"\u003cs\u003e\"\n",
                "    for i in range(max_decoded_sentence_length):\n",
                "        tokenized_target_sentence = vectorization_spa(\n",
                "            [decoded_sentence])[:, :-1]\n",
                "        predictions = model(\n",
                "            [tokenized_input_sentence, tokenized_target_sentence])\n",
                "        sampled_token_index = np.argmax(predictions[0, i, :])\n",
                "        sampled_token = spa_index_lookup[sampled_token_index]\n",
                "        decoded_sentence += \" \" + sampled_token\n",
                "        if sampled_token == \"\u003c/s\u003e\":\n",
                "            break\n",
                "    return decoded_sentence\n",
                "\n",
                "for _ in range(10):\n",
                "    input_sentence = random.choice(data.English)\n",
                "    print(\"-\")\n",
                "    print(input_sentence)\n",
                "    print(decode_sequence(input_sentence))"
            ]
        },
        {
            "cell_type": "code",
            "execution_count": 0,
            "metadata": {},
            "outputs": [],
            "source": [
                ""
            ]
        }
    ]
}
