{
    "metadata": {
        "kernelspec": {
            "name": "python3",
            "display_name": "Python 3 (ipykernel)",
            "language": "python"
        }
    },
    "nbformat": 4,
    "nbformat_minor": 4,
    "cells": [
        {
            "attachments": {},
            "cell_type": "markdown",
            "metadata": {},
            "source": [
                "## Vanilla RNNs\n",
                "\n",
                "We will use Vanilla Recurrent Neural Networks to perform sentiment analysis in `tensorflow.keras` using imdb movie reviews dataset.\n",
                "The dataset is a subset consisting of 10,000 reviews in the training and test set each. [see here for more info](https://www.tensorflow.org/datasets/catalog/imdb_reviews)"
            ]
        },
        {
            "cell_type": "code",
            "execution_count": 1,
            "metadata": {},
            "outputs": [],
            "source": [
                "# Import required libraries\n",
                "from tensorflow.keras.datasets import imdb\n",
                "from tensorflow.keras.preprocessing import sequence\n",
                "from tensorflow.keras import Sequential\n",
                "from tensorflow.keras.layers import Embedding, SimpleRNN, Dense,GRU\n",
                "import pickle\n",
                "import numpy as np\n",
                "import matplotlib.pyplot as plt\n",
                "from prettytable import PrettyTable\n",
                "from pprint import pprint\n",
                "import json"
            ]
        },
        {
            "cell_type": "code",
            "execution_count": 2,
            "metadata": {},
            "outputs": [],
            "source": [
                "# We fix a vocabulary size of 5000\n",
                "# Use the code below to call a small subset of the imdb dataset\n",
                "# We keep the vocabulary size fixed because it was used to curate the sub-dataset\n",
                "vocabulary_size = 5000\n",
                "with open('imdb_mini.pkl','rb') as f:\n",
                "    X_train, y_train, X_test, y_test = pickle.load(f)\n",
                ""
            ]
        },
        {
            "attachments": {},
            "cell_type": "markdown",
            "metadata": {},
            "source": [
                "#### Inspect a sample review and its label"
            ]
        },
        {
            "cell_type": "code",
            "execution_count": 3,
            "metadata": {},
            "outputs": [
                {
                    "name": "stdout",
                    "output_type": "stream",
                    "text": "---review---\n[1, 48, 2498, 2, 16, 4, 4, 1554, 149, 14, 22, 95, 198, 51, 29, 62, 2039, 46, 11, 189, 10, 10, 146, 806, 1588, 21, 2, 195, 75, 69, 79, 3514, 4, 1122, 292, 2, 5, 150, 14, 803, 4, 4351, 57, 45, 24, 618, 6, 2, 15, 289, 7, 4, 2, 323, 2, 2, 5, 4, 85, 381, 160, 87, 698, 284, 4, 293, 1141, 2, 11, 148, 2, 9, 4, 2, 7, 4, 108, 36, 1173, 93, 8, 4171, 363, 36, 71, 2812, 631, 108, 19, 6, 955, 1382, 841, 15, 43, 566, 30, 2, 11, 4, 2997, 4, 681, 9, 1215, 5, 51, 128, 96, 8, 2330, 6, 1215, 22, 74, 8, 2, 12, 19, 6, 1034, 42, 60, 6, 755, 10, 10, 2, 2, 69, 6, 1211, 2790, 159, 12, 60, 569, 4, 1320, 2, 2, 9, 60, 53, 2, 15, 85, 301, 1215, 108, 12, 2, 512, 1089, 3167, 6, 1242, 156, 4, 228, 603, 270, 1328, 15, 2, 2786, 5, 32, 4, 537, 3392, 4, 22, 10, 10, 38, 133, 266, 6, 1034, 92, 3250, 57, 2, 71, 2, 11, 4, 231, 7, 14, 1034, 49, 678, 1409, 7, 4, 65, 887, 8, 30, 2, 18, 4, 682, 2997, 2, 2, 2, 21, 198, 43, 44, 4, 226, 863, 38, 75, 202, 4, 1002, 6, 2, 405, 2, 501, 601, 19, 1465, 228, 2183, 18, 4, 706, 2629, 95, 19, 57, 2, 1699, 2, 23, 4, 1111, 15, 2580, 4, 2, 46, 21, 11, 4, 147, 182, 14, 586, 593, 1788, 43, 92, 140, 1012, 202, 90, 6, 541, 4304, 18, 3666, 247, 74, 4, 2, 7, 4580, 5, 25, 28, 4, 1034, 2, 1523, 151, 218, 12, 10, 10, 45, 43, 15, 12, 16, 32, 2984, 23, 19, 6, 2, 4, 403, 2, 71, 331, 2, 220, 1671, 23, 50, 16, 57, 281, 7, 1830, 23, 4, 1111, 57, 2, 7, 513, 8, 1277, 129, 2, 43, 6, 171, 4165, 2, 44, 6, 2585, 5, 15, 16, 12, 2, 16, 43, 616, 34, 24, 743, 46, 101, 2, 33, 32, 5, 1935, 16, 3506, 8, 387, 41, 79, 245, 19, 12, 54, 29, 435, 83, 4, 73, 25, 43, 697, 29, 62, 79, 2897, 12, 4, 881, 16, 2, 32, 4, 96, 8, 4, 130, 5, 25, 43, 473, 12, 8, 2, 56, 5, 130, 4, 2, 16, 427, 642, 5, 161, 124, 54, 8, 570, 10, 10, 15, 277, 9, 242, 4, 118, 96, 8, 2, 4, 1474, 200, 4, 107, 31, 630, 11, 4, 91, 307, 2, 103, 4, 91, 2993, 251, 4, 85, 630, 19, 6, 1208, 365, 1260, 12, 32, 8, 4, 2, 552, 1174, 10, 10, 13, 447, 4, 204, 21, 435, 8, 4, 438, 19, 35, 911, 330, 5, 16, 2229, 8, 67, 4, 22, 13, 317, 2, 11, 4, 1857, 15, 14, 22, 80, 242, 130, 56, 4158, 6, 2, 1198, 64, 14, 58, 2, 1551, 1437]\n---label---\n0\n"
                }
            ],
            "source": [
                "# Run the code below to see the first tokenized review and the label\n",
                "print('---review---')\n",
                "print(X_train[0])\n",
                "print('---label---')\n",
                "print(y_train[0])"
            ]
        },
        {
            "cell_type": "code",
            "execution_count": 4,
            "metadata": {},
            "outputs": [
                {
                    "name": "stdout",
                    "output_type": "stream",
                    "text": "'---review with words---'\n(\"\u003cSTART\u003e if edward \u003cUNK\u003e was the the flicks watching this film then that's \"\n \"what he would scream out in horror br br i'm sorry folks but \u003cUNK\u003e enough we \"\n \"had get carter the italian job \u003cUNK\u003e and now this what's the similarities no \"\n \"it's not exactly a \u003cUNK\u003e that three of the \u003cUNK\u003e star \u003cUNK\u003e \u003cUNK\u003e and the \"\n 'other stars another great british actor the main common \u003cUNK\u003e in those \u003cUNK\u003e '\n \"is the \u003cUNK\u003e of the films they weren't made to impress hollywood they were \"\n 'quirky english films with a unique charm atmosphere that just cannot be '\n '\u003cUNK\u003e in the usa the word is cult and what better way to destroy a cult film '\n 'than to \u003cUNK\u003e it with a remake or even a sequel br br \u003cUNK\u003e \u003cUNK\u003e had a '\n 'tough task before it even hit the road \u003cUNK\u003e \u003cUNK\u003e is even more \u003cUNK\u003e that '\n 'other said cult films it \u003cUNK\u003e genre intelligent scripts a grade actors the '\n 'music score set pieces that \u003cUNK\u003e description and all the stories '\n \"surrounding the film br br so here comes a remake don't worry no \u003cUNK\u003e were \"\n '\u003cUNK\u003e in the making of this remake some major aspects of the story needed to '\n \"be \u003cUNK\u003e for the modern usa \u003cUNK\u003e \u003cUNK\u003e \u003cUNK\u003e but that's just about the \"\n 'whole premise so we give the cop a \u003cUNK\u003e style \u003cUNK\u003e past complete with '\n 'shock music flashbacks for the cheap scares then with no \u003cUNK\u003e phone \u003cUNK\u003e '\n \"on the island that sorts the \u003cUNK\u003e out but in the real world this wouldn't \"\n \"happen cops just don't go missing give him a blood link for motivation \"\n 'rather than the \u003cUNK\u003e of beliefs and you have the remake \u003cUNK\u003e thin though '\n \"isn't it br br it's just that it was all laid on with a \u003cUNK\u003e the name \u003cUNK\u003e \"\n 'were simply \u003cUNK\u003e almost carry on there was no sense of community on the '\n 'island no \u003cUNK\u003e of town to catch your \u003cUNK\u003e just a few houses \u003cUNK\u003e about a '\n 'forest and that was it \u003cUNK\u003e was just annoying by not giving out any \u003cUNK\u003e '\n 'at all and cage was useless to let her get away with it when he went into '\n 'the well you just knew he would get locked it the screenplay was \u003cUNK\u003e all '\n 'the way to the end and you just wanted it to \u003cUNK\u003e up and end the \u003cUNK\u003e was '\n \"absolutely hilarious and didn't know when to stop br br that ending is \"\n 'probably the best way to \u003cUNK\u003e the difference between the two one ends in '\n 'the most beautiful \u003cUNK\u003e after the most horrific day the other ends with a '\n 'post production explain it all to the \u003cUNK\u003e type conclusion br br i loved '\n 'the original but went to the cinema with an open mind and was excited to see '\n 'the film i left \u003cUNK\u003e in the knowledge that this film will probably end up '\n 'beneath a \u003cUNK\u003e somewhere only this time \u003cUNK\u003e forgotten forever')\n'---label---'\n0\n"
                }
            ],
            "source": [
                "# You can get the word2id mapping by\n",
                "# using the imdb.get_word_index() function\n",
                "\n",
                "#word2id = imdb.get_word_index()\n",
                "with open('imdb_word_index.json', 'r') as f:\n",
                "  word2id = json.load(f)\n",
                "# We need to adjust the mapping by 3 because of tensorflow.keras preprocessing\n",
                "# more here: https://stackoverflow.com/questions/42821330/restore-original-text-from-keras-s-imdb-dataset\n",
                "word2id = {k:(v+3) for k,v in word2id.items()}\n",
                "word2id[\"\u003cPAD\u003e\"] = 0\n",
                "word2id[\"\u003cSTART\u003e\"] = 1\n",
                "word2id[\"\u003cUNK\u003e\"] = 2\n",
                "word2id[\"\u003cUNUSED\u003e\"] = 3\n",
                "\n",
                "# Reversing the key,value pair will give the id2word\n",
                "id2word = {i: word for word, i in word2id.items()}\n",
                "pprint('---review with words---')\n",
                "pprint(\" \".join([id2word[i] for i in X_train[0]]))\n",
                "pprint('---label---')\n",
                "pprint(y_train[0]);"
            ]
        },
        {
            "attachments": {},
            "cell_type": "markdown",
            "metadata": {},
            "source": [
                "Maximum review length and minimum review length"
            ]
        },
        {
            "attachments": {},
            "cell_type": "markdown",
            "metadata": {},
            "source": [
                "### ⏸ The `\u003cUNK\u003e` tag is reserved for?\n",
                "\n",
                "\n",
                "#### A. Special characters\n",
                "#### B. Out of vocabulary words\n",
                "#### C. Start of sentence\n",
                "#### D. End of sentence"
            ]
        },
        {
            "cell_type": "code",
            "execution_count": 5,
            "metadata": {},
            "outputs": [],
            "source": [
                "### edTest(test_chow1) ###\n",
                "# Submit an answer choice as a string below (eg. if you choose option C, put 'C')\n",
                "answer1 = '___'"
            ]
        },
        {
            "cell_type": "code",
            "execution_count": 6,
            "metadata": {},
            "outputs": [
                {
                    "name": "stdout",
                    "output_type": "stream",
                    "text": "Maximum review length: 2494\nMinimum review length: 7\n"
                }
            ],
            "source": [
                "# For training we need our sequences to be of fixed length, but the reviews\n",
                "# are of different sizes\n",
                "print(f'Maximum review length: {len(max([i for i in X_train]+[i for i in X_test], key=len))}')\n",
                "print(f'Minimum review length: {len(min([i for i in X_train]+[i for i in X_test], key=len))}')"
            ]
        },
        {
            "cell_type": "code",
            "execution_count": 7,
            "metadata": {},
            "outputs": [],
            "source": [
                "# We also create two indices for short and long reviews\n",
                "# we will use this later\n",
                "idx_short = [i for i,val in enumerate(X_train) if len(val)\u003c100]\n",
                "idx_long = [i for i,val in enumerate(X_train) if len(val)\u003e500]"
            ]
        },
        {
            "attachments": {},
            "cell_type": "markdown",
            "metadata": {},
            "source": [
                "### Pad sequences\n",
                "\n",
                "In order to feed this data into our RNN, all input documents must have the same length. We will limit the maximum review length to max_words by truncating longer reviews and padding shorter reviews. We can accomplish this using the pad_sequences() function in `tensorflow.keras`. For now, set max_words to 500."
            ]
        },
        {
            "attachments": {},
            "cell_type": "markdown",
            "metadata": {},
            "source": [
                "### ⏸ If we use *post-padding* on a sequence, the new sequence is\"\n",
                "\n",
                "\n",
                "#### A. \"Padded with zeros before the start of original sequence\"\n",
                "#### B. \"Padded with zeros after the end of the original sequence\"\n",
                "#### C. \"Padded with ones before the start of original sequence\"\n",
                "#### D. \"Padded with ones after the end of the original sequence\""
            ]
        },
        {
            "cell_type": "code",
            "execution_count": 8,
            "metadata": {},
            "outputs": [],
            "source": [
                "### edTest(test_chow2) ###\n",
                "# Submit an answer choice as a string below (eg. if you choose option C, put 'C')\n",
                "answer2 = '___'"
            ]
        },
        {
            "cell_type": "code",
            "execution_count": 9,
            "metadata": {},
            "outputs": [],
            "source": [
                "# We will clip large reviews and pad smaller reviews to 500 words\n",
                "max_words = 500\n",
                "# We can pad the smaller sequences with 0s before, or after.\n",
                "# This choice can severely affect network performance\n",
                "# In the first case we, will pad after the sequence\n",
                "postpad_X_train = sequence.pad_sequences(X_train, maxlen=max_words,padding='post')\n",
                "postpad_X_test = sequence.pad_sequences(X_test, maxlen=max_words,padding='post')"
            ]
        },
        {
            "attachments": {},
            "cell_type": "markdown",
            "metadata": {},
            "source": [
                "### RNN model for sentiment analysis\n",
                "\n",
                "We build the model architecture in the code cell below. We have imported some layers from `tensorflow.keras` that you might need but feel free to use any other layers / transformations you like.\n",
                "\n",
                "Remember that our input is a sequence of words (technically, integer word IDs) of maximum length = max_words, and our output is a binary sentiment label (0 or 1)."
            ]
        },
        {
            "cell_type": "code",
            "execution_count": 10,
            "metadata": {},
            "outputs": [],
            "source": [
                "def model_maker(summary=True,gru=False):\n",
                "# One layer RNN model with 32 rnn cells\n",
                "    embedding_size=32\n",
                "    model=Sequential()\n",
                "    model.add(Embedding(vocabulary_size, embedding_size, input_length=max_words))\n",
                "    \n",
                "    # We can specify if we want the GRU cell or the vanilla RNN cell\n",
                "    if gru:\n",
                "        model.add(GRU(embedding_size))\n",
                "    else:\n",
                "        model.add(SimpleRNN(embedding_size))\n",
                "    model.add(Dense(1, activation='sigmoid'))\n",
                "    if summary:\n",
                "        print(model.summary())\n",
                "        \n",
                "    # model compile step\n",
                "    model.compile(loss='binary_crossentropy', \n",
                "                 optimizer='adam', \n",
                "                 metrics=['accuracy'])    \n",
                "    return model"
            ]
        },
        {
            "attachments": {},
            "cell_type": "markdown",
            "metadata": {},
            "source": [
                "## Trace Plot analysis\n",
                "We expect the postpadded model to perform train slowly because of vanishing gradients.\n",
                "Let us investigate the cause by training two models,\n",
                "- One with shorter reviews (that were post padded) using `idx_short`\n",
                "- The other with longer reviews (that were truncated) using `idx_long`"
            ]
        },
        {
            "cell_type": "code",
            "execution_count": 11,
            "metadata": {},
            "outputs": [
                {
                    "name": "stderr",
                    "output_type": "stream",
                    "text": "2022-03-05 08:18:06.212902: I tensorflow/core/platform/cpu_feature_guard.cc:151] This TensorFlow binary is optimized with oneAPI Deep Neural Network Library (oneDNN) to use the following CPU instructions in performance-critical operations:  SSE3 SSE4.1 SSE4.2 AVX AVX2 FMA\nTo enable them in other operations, rebuild TensorFlow with the appropriate compiler flags.\n2022-03-05 08:18:06.213301: I tensorflow/core/common_runtime/process_util.cc:146] Creating new thread pool with default inter op setting: 2. Tune using inter_op_parallelism_threads for best performance.\n"
                }
            ],
            "source": [
                "# We build two new models with vanilla RNNs\n",
                "model_short = model_maker(summary=False)\n",
                "model_long = model_maker(summary=False)"
            ]
        },
        {
            "cell_type": "code",
            "execution_count": 12,
            "metadata": {},
            "outputs": [],
            "source": [
                "# First we train `model_short` with short reviews\n",
                "\n",
                "X_short = postpad_X_train[idx_short]\n",
                "y_short = y_train[idx_short]\n",
                "epochs = 10\n",
                "history_short = model_short.fit(X_short, y_short, epochs=epochs,batch_size=640,verbose=0);"
            ]
        },
        {
            "cell_type": "code",
            "execution_count": 13,
            "metadata": {},
            "outputs": [],
            "source": [
                "# Then we train `model_long` with short reviews\n",
                "\n",
                "X_long = postpad_X_train[idx_long]\n",
                "y_long = y_train[idx_long]\n",
                "history_long = model_long.fit(X_long, y_long, epochs=epochs,batch_size=640,verbose=0);"
            ]
        },
        {
            "cell_type": "code",
            "execution_count": 14,
            "metadata": {},
            "outputs": [
                {
                    "data": {
                        "image/png": "[encoded data removed]",
                        "text/plain": "\u003cFigure size 576x432 with 1 Axes\u003e"
                    },
                    "metadata": {
                        "needs_background": "light"
                    },
                    "output_type": "display_data"
                }
            ],
            "source": [
                "# Helper function to plot the data\n",
                "# Plot the MSE of the model\n",
                "plt.rcParams[\"figure.figsize\"] = (8,6)\n",
                "plt.title(\"Padding='post'\",fontsize=20)\n",
                "plt.semilogy(history_short.history['loss'], label='Shorter reviews', color='#FF9A98', linewidth=3)\n",
                "plt.semilogy(history_long.history['loss'],  label='Longer reviews', color='#75B594', linewidth=3)\n",
                "plt.legend()\n",
                "\n",
                "# Set the axes labels\n",
                "plt.xlabel('Epochs',fontsize=14)\n",
                "plt.xticks(range(1,epochs,4))\n",
                "plt.ylabel('MSE Loss',fontsize=14)\n",
                "plt.legend(fontsize=14)\n",
                "plt.show()"
            ]
        },
        {
            "attachments": {},
            "cell_type": "markdown",
            "metadata": {},
            "source": [
                "## Pre-padding sequences\n",
                "\n",
                "As we can see, the vanishing gradient problem is real and can severely affect the training of our network. The short review network negligibly trains, whereas the longer review model trains very well.\n",
                "To counter this, we will now *pre-pad* the shorter sequences."
            ]
        },
        {
            "cell_type": "code",
            "execution_count": 15,
            "metadata": {},
            "outputs": [],
            "source": [
                "# We can pre-pad by using `sequence.pad_sequences` with `padding='pre'`\n",
                "max_words = 500\n",
                "prepad_X_train = sequence.pad_sequences(X_train, maxlen=max_words,padding='pre')\n",
                "prepad_X_test = sequence.pad_sequences(X_test, maxlen=max_words,padding='pre')"
            ]
        },
        {
            "attachments": {},
            "cell_type": "markdown",
            "metadata": {},
            "source": [
                "### Trace Plot - Take 2\n",
                "\n",
                "Again, we investigate the trace plots for the two categories, but this time, with pre-padding"
            ]
        },
        {
            "cell_type": "code",
            "execution_count": 16,
            "metadata": {},
            "outputs": [],
            "source": [
                "# Reinitializing the models for the two categories\n",
                "model_short = model_maker(summary=False)\n",
                "model_long = model_maker(summary=False)"
            ]
        },
        {
            "cell_type": "code",
            "execution_count": 17,
            "metadata": {},
            "outputs": [],
            "source": [
                "# Again we train `model_short` with short reviews\n",
                "\n",
                "X_short = prepad_X_train[idx_short]\n",
                "y_short = y_train[idx_short]\n",
                "epochs = 10\n",
                "history_short = model_short.fit(X_short, y_short, epochs=epochs,batch_size=640,verbose=0);"
            ]
        },
        {
            "cell_type": "code",
            "execution_count": 18,
            "metadata": {},
            "outputs": [],
            "source": [
                "# Then we train `model_long` with long reviews\n",
                "\n",
                "X_long = prepad_X_train[idx_long]\n",
                "y_long = y_train[idx_long]\n",
                "history_long = model_long.fit(X_long, y_long, epochs=epochs,batch_size=640,verbose=0);"
            ]
        },
        {
            "cell_type": "code",
            "execution_count": 19,
            "metadata": {},
            "outputs": [
                {
                    "data": {
                        "image/png": "[encoded data removed]",
                        "text/plain": "\u003cFigure size 576x432 with 1 Axes\u003e"
                    },
                    "metadata": {
                        "needs_background": "light"
                    },
                    "output_type": "display_data"
                }
            ],
            "source": [
                "# Helper function to plot the data\n",
                "# Plot the MSE of the model\n",
                "plt.rcParams[\"figure.figsize\"] = (8,6)\n",
                "plt.title(\"Padding='pre'\",fontsize=20)\n",
                "plt.semilogy(history_short.history['loss'], label='Shorter reviews', color='#FF9A98', linewidth=3)\n",
                "plt.semilogy(history_long.history['loss'],  label='Longer reviews', color='#75B594', linewidth=3)\n",
                "plt.legend()\n",
                "\n",
                "# Set the axes labels\n",
                "plt.xlabel('Epochs',fontsize=14)\n",
                "plt.xticks(range(1,epochs,4))\n",
                "plt.ylabel('MSE Loss',fontsize=14)\n",
                "plt.legend(fontsize=14)\n",
                "plt.show()"
            ]
        },
        {
            "attachments": {},
            "cell_type": "markdown",
            "metadata": {},
            "source": [
                "### 🍲 Further improvements\n",
                "\n",
                "We solved the vanishing gradient problem by *pre-padding* the sequences, but what other design choices can help you improve performance?"
            ]
        },
        {
            "cell_type": "code",
            "execution_count": 20,
            "metadata": {},
            "outputs": [],
            "source": [
                "### edTest(test_chow3) ###\n",
                "# Submit your answer as a string below\n",
                "answer3 = '___'"
            ]
        },
        {
            "cell_type": "code",
            "execution_count": 21,
            "metadata": {},
            "outputs": [],
            "source": [
                ""
            ]
        },
        {
            "cell_type": "code",
            "execution_count": 22,
            "metadata": {},
            "outputs": [],
            "source": [
                ""
            ]
        },
        {
            "cell_type": "code",
            "execution_count": 0,
            "metadata": {},
            "outputs": [],
            "source": [
                ""
            ]
        }
    ]
}
